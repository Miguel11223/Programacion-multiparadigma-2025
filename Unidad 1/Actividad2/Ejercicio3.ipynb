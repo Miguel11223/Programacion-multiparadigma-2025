{
 "cells": [
  {
   "cell_type": "code",
   "execution_count": 3,
   "metadata": {},
   "outputs": [
    {
     "name": "stdout",
     "output_type": "stream",
     "text": [
      "\n",
      "1. Suma\n",
      "2. Resta\n",
      "3. Salir\n",
      "Resultado: 85.5\n",
      "\n",
      "1. Suma\n",
      "2. Resta\n",
      "3. Salir\n"
     ]
    }
   ],
   "source": [
    "def menu_calculadora():\n",
    "    while True:\n",
    "        print(\"\\n1. Suma\")\n",
    "        print(\"2. Resta\")\n",
    "        print(\"3. Salir\")\n",
    "        opcion = int(input(\"Elige una opción (1-3): \"))\n",
    "        \n",
    "        if opcion == 1:\n",
    "            num1 = float(input(\"Ingresa el primer número: \"))\n",
    "            num2 = float(input(\"Ingresa el segundo número: \"))\n",
    "            print(f\"Resultado: {num1 + num2}\")\n",
    "        elif opcion == 2:\n",
    "            num1 = float(input(\"Ingresa el primer número: \"))\n",
    "            num2 = float(input(\"Ingresa el segundo número: \"))\n",
    "            print(f\"Resultado: {num1 - num2}\")\n",
    "        elif opcion == 3:\n",
    "            print(\"Saliendo...\")\n",
    "            break\n",
    "        else:\n",
    "            print(\"Opción no válida\")\n",
    "\n",
    "menu_calculadora()"
   ]
  }
 ],
 "metadata": {
  "kernelspec": {
   "display_name": "Python 3",
   "language": "python",
   "name": "python3"
  },
  "language_info": {
   "codemirror_mode": {
    "name": "ipython",
    "version": 3
   },
   "file_extension": ".py",
   "mimetype": "text/x-python",
   "name": "python",
   "nbconvert_exporter": "python",
   "pygments_lexer": "ipython3",
   "version": "3.13.7"
  }
 },
 "nbformat": 4,
 "nbformat_minor": 2
}
