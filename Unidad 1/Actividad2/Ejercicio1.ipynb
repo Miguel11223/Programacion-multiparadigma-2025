{
 "cells": [
  {
   "cell_type": "code",
   "execution_count": 2,
   "metadata": {},
   "outputs": [
    {
     "name": "stdout",
     "output_type": "stream",
     "text": [
      "1. Triángulo\n",
      "2. Cuadrado\n",
      "3. Círculo\n",
      "4. Salir\n",
      "El área del triángulo es: 14.0\n",
      "1. Triángulo\n",
      "2. Cuadrado\n",
      "3. Círculo\n",
      "4. Salir\n",
      "Saliendo...\n"
     ]
    }
   ],
   "source": [
    "def calcular_area():\n",
    "    while True:\n",
    "        print(\"1. Triángulo\")\n",
    "        print(\"2. Cuadrado\")\n",
    "        print(\"3. Círculo\")\n",
    "        print(\"4. Salir\")\n",
    "        opcion = int(input(\"Elige una opción (1-4): \"))\n",
    "        \n",
    "        if opcion == 1:\n",
    "            base = float(input(\"Ingresa la base del triángulo: \"))\n",
    "            altura = float(input(\"Ingresa la altura del triángulo: \"))\n",
    "            area = (base * altura) / 2\n",
    "            print(f\"El área del triángulo es: {area}\")\n",
    "        elif opcion == 2:\n",
    "            lado = float(input(\"Ingresa el lado del cuadrado: \"))\n",
    "            area = lado * lado\n",
    "            print(f\"El área del cuadrado es: {area}\")\n",
    "        elif opcion == 3:\n",
    "            import math\n",
    "            radio = float(input(\"Ingresa el radio del círculo: \"))\n",
    "            area = math.pi * radio ** 2\n",
    "            print(f\"El área del círculo es: {area}\")\n",
    "        elif opcion == 4:\n",
    "            print(\"Saliendo...\")\n",
    "            break\n",
    "        else:\n",
    "            print(\"Opción no válida\")\n",
    "\n",
    "calcular_area()"
   ]
  }
 ],
 "metadata": {
  "kernelspec": {
   "display_name": "Python 3",
   "language": "python",
   "name": "python3"
  },
  "language_info": {
   "codemirror_mode": {
    "name": "ipython",
    "version": 3
   },
   "file_extension": ".py",
   "mimetype": "text/x-python",
   "name": "python",
   "nbconvert_exporter": "python",
   "pygments_lexer": "ipython3",
   "version": "3.13.7"
  }
 },
 "nbformat": 4,
 "nbformat_minor": 2
}
