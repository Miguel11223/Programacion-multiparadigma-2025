{
 "cells": [
  {
   "cell_type": "code",
   "execution_count": null,
   "metadata": {},
   "outputs": [],
   "source": [
    "def convertir_calificacion():\n",
    "    while True:\n",
    "        calificacion = float(input(\"Ingresa la calificación numérica (0-100) o -1 para salir: \"))\n",
    "        \n",
    "        if calificacion == -1:\n",
    "            print(\"Saliendo...\")\n",
    "            break\n",
    "            \n",
    "        if calificacion >= 90 and calificacion <= 100:\n",
    "            print(\"A\")\n",
    "        elif calificacion >= 80 and calificacion < 90:\n",
    "            print(\"B\")\n",
    "        elif calificacion >= 70 and calificacion < 80:\n",
    "            print(\"C\")\n",
    "        elif calificacion >= 60 and calificacion < 70:\n",
    "            print(\"D\")\n",
    "        elif calificacion >= 0 and calificacion < 60:\n",
    "            print(\"F\")\n",
    "        else:\n",
    "            print(\"Calificación no válida\")\n",
    "\n",
    "convertir_calificacion()"
   ]
  }
 ],
 "metadata": {
  "kernelspec": {
   "display_name": "Python 3",
   "language": "python",
   "name": "python3"
  },
  "language_info": {
   "codemirror_mode": {
    "name": "ipython",
    "version": 3
   },
   "file_extension": ".py",
   "mimetype": "text/x-python",
   "name": "python",
   "nbconvert_exporter": "python",
   "pygments_lexer": "ipython3",
   "version": "3.13.7"
  }
 },
 "nbformat": 4,
 "nbformat_minor": 2
}
